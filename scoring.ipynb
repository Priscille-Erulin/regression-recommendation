{
 "cells": [
  {
   "cell_type": "code",
   "execution_count": 2,
   "metadata": {},
   "outputs": [],
   "source": [
    "import pandas as pd"
   ]
  },
  {
   "cell_type": "code",
   "execution_count": 3,
   "metadata": {},
   "outputs": [],
   "source": [
    "scored_train_data = pd.read_csv('preped_train_data_wth_dummies.csv', index_col=0)\n",
    "all_sales = pd.read_csv('sales_jan23_avr23.csv')\n"
   ]
  },
  {
   "cell_type": "code",
   "execution_count": 65,
   "metadata": {},
   "outputs": [],
   "source": [
    "user_id = 'zzWUNSYQ2CWwopiILtUU4kaBEm13'\n",
    "user_information = scored_train_data[['User Key', 'Recency', 'Frequency', 'Monetary']]\n",
    "available_dates = ['2023-03-26', '2023-04-18', '2023-04-08']\n",
    "available_sales = all_sales[all_sales['Start At'].isin(available_dates)]\n",
    "model = 'model'"
   ]
  },
  {
   "cell_type": "code",
   "execution_count": 82,
   "metadata": {},
   "outputs": [],
   "source": [
    "def creating_entry_data(user_id, user_information, available_sales: pd.DataFrame):\n",
    "    \"\"\" \n",
    "    Aims at returning ranked sales for a given user\n",
    "    \"\"\"\n",
    "    user_specific_information = user_information[user_information['User Key'] == user_id].drop('User Key', axis = 1)\n",
    "\n",
    "\n",
    "    user_features = user_specific_information.columns\n",
    "\n",
    "    df_for_predictions = available_sales.__deepcopy__().reset_index(drop = True)\n",
    "    user_specific_df = pd.concat([user_specific_information] *len (df_for_predictions), ignore_index=True)\n",
    "\n",
    "    df_for_predictions[user_features] = user_specific_df\n"
   ]
  },
  {
   "cell_type": "code",
   "execution_count": null,
   "metadata": {},
   "outputs": [],
   "source": []
  },
  {
   "cell_type": "code",
   "execution_count": null,
   "metadata": {},
   "outputs": [],
   "source": []
  }
 ],
 "metadata": {
  "kernelspec": {
   "display_name": "Python 3",
   "language": "python",
   "name": "python3"
  },
  "language_info": {
   "codemirror_mode": {
    "name": "ipython",
    "version": 3
   },
   "file_extension": ".py",
   "mimetype": "text/x-python",
   "name": "python",
   "nbconvert_exporter": "python",
   "pygments_lexer": "ipython3",
   "version": "3.9.16"
  },
  "orig_nbformat": 4
 },
 "nbformat": 4,
 "nbformat_minor": 2
}
