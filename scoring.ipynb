{
 "cells": [
  {
   "cell_type": "code",
   "execution_count": 85,
   "metadata": {},
   "outputs": [],
   "source": [
    "import pandas as pd\n",
    "import pickle"
   ]
  },
  {
   "cell_type": "code",
   "execution_count": 86,
   "metadata": {},
   "outputs": [],
   "source": [
    "scored_train_data = pd.read_csv('preped_train_data_wth_dummies.csv', index_col=0)\n",
    "all_sales = pd.read_csv('sales_jan23_avr23.csv')\n"
   ]
  },
  {
   "cell_type": "code",
   "execution_count": 87,
   "metadata": {},
   "outputs": [
    {
     "ename": "FileNotFoundError",
     "evalue": "[Errno 2] No such file or directory: 'svr_model.pkl'",
     "output_type": "error",
     "traceback": [
      "\u001b[0;31m---------------------------------------------------------------------------\u001b[0m",
      "\u001b[0;31mFileNotFoundError\u001b[0m                         Traceback (most recent call last)",
      "Cell \u001b[0;32mIn[87], line 5\u001b[0m\n\u001b[1;32m      3\u001b[0m available_dates \u001b[39m=\u001b[39m [\u001b[39m'\u001b[39m\u001b[39m2023-03-26\u001b[39m\u001b[39m'\u001b[39m, \u001b[39m'\u001b[39m\u001b[39m2023-04-18\u001b[39m\u001b[39m'\u001b[39m, \u001b[39m'\u001b[39m\u001b[39m2023-04-08\u001b[39m\u001b[39m'\u001b[39m]\n\u001b[1;32m      4\u001b[0m available_sales \u001b[39m=\u001b[39m all_sales[all_sales[\u001b[39m'\u001b[39m\u001b[39mStart At\u001b[39m\u001b[39m'\u001b[39m]\u001b[39m.\u001b[39misin(available_dates)]\n\u001b[0;32m----> 5\u001b[0m model \u001b[39m=\u001b[39m pickle\u001b[39m.\u001b[39mload(\u001b[39mopen\u001b[39;49m(\u001b[39m'\u001b[39;49m\u001b[39msvr_model.pkl\u001b[39;49m\u001b[39m'\u001b[39;49m, \u001b[39m'\u001b[39;49m\u001b[39mrb\u001b[39;49m\u001b[39m'\u001b[39;49m))\n",
      "File \u001b[0;32m~/.pyenv/versions/3.9.16/lib/python3.9/site-packages/IPython/core/interactiveshell.py:282\u001b[0m, in \u001b[0;36m_modified_open\u001b[0;34m(file, *args, **kwargs)\u001b[0m\n\u001b[1;32m    275\u001b[0m \u001b[39mif\u001b[39;00m file \u001b[39min\u001b[39;00m {\u001b[39m0\u001b[39m, \u001b[39m1\u001b[39m, \u001b[39m2\u001b[39m}:\n\u001b[1;32m    276\u001b[0m     \u001b[39mraise\u001b[39;00m \u001b[39mValueError\u001b[39;00m(\n\u001b[1;32m    277\u001b[0m         \u001b[39mf\u001b[39m\u001b[39m\"\u001b[39m\u001b[39mIPython won\u001b[39m\u001b[39m'\u001b[39m\u001b[39mt let you open fd=\u001b[39m\u001b[39m{\u001b[39;00mfile\u001b[39m}\u001b[39;00m\u001b[39m by default \u001b[39m\u001b[39m\"\u001b[39m\n\u001b[1;32m    278\u001b[0m         \u001b[39m\"\u001b[39m\u001b[39mas it is likely to crash IPython. If you know what you are doing, \u001b[39m\u001b[39m\"\u001b[39m\n\u001b[1;32m    279\u001b[0m         \u001b[39m\"\u001b[39m\u001b[39myou can use builtins\u001b[39m\u001b[39m'\u001b[39m\u001b[39m open.\u001b[39m\u001b[39m\"\u001b[39m\n\u001b[1;32m    280\u001b[0m     )\n\u001b[0;32m--> 282\u001b[0m \u001b[39mreturn\u001b[39;00m io_open(file, \u001b[39m*\u001b[39;49margs, \u001b[39m*\u001b[39;49m\u001b[39m*\u001b[39;49mkwargs)\n",
      "\u001b[0;31mFileNotFoundError\u001b[0m: [Errno 2] No such file or directory: 'svr_model.pkl'"
     ]
    }
   ],
   "source": [
    "user_id = 'zzWUNSYQ2CWwopiILtUU4kaBEm13'\n",
    "user_information = scored_train_data[['User Key', 'Recency', 'Frequency', 'Monetary']]\n",
    "available_dates = ['2023-03-26', '2023-04-18', '2023-04-08']\n",
    "available_sales = all_sales[all_sales['Start At'].isin(available_dates)]\n",
    "model = pickle.load(open('svr_model.pkl', 'rb'))"
   ]
  },
  {
   "cell_type": "code",
   "execution_count": 83,
   "metadata": {},
   "outputs": [],
   "source": [
    "def creating_entry_data(user_id, user_information, available_sales: pd.DataFrame):\n",
    "    \"\"\" \n",
    "    Aims at returning ranked sales for a given user\n",
    "    \"\"\"\n",
    "    user_specific_information = user_information[user_information['User Key'] == user_id].drop('User Key', axis = 1)\n",
    "\n",
    "\n",
    "    user_features = user_specific_information.columns\n",
    "\n",
    "    df_for_predictions = available_sales.__deepcopy__().reset_index(drop = True)\n",
    "    user_specific_df = pd.concat([user_specific_information] *len (df_for_predictions), ignore_index=True)\n",
    "\n",
    "    df_for_predictions[user_features] = user_specific_df\n",
    "\n",
    "    return df_for_predictions\n"
   ]
  },
  {
   "cell_type": "code",
   "execution_count": 91,
   "metadata": {},
   "outputs": [
    {
     "ename": "SyntaxError",
     "evalue": "cannot assign to function call (1750098004.py, line 10)",
     "output_type": "error",
     "traceback": [
      "\u001b[0;36m  Cell \u001b[0;32mIn[91], line 10\u001b[0;36m\u001b[0m\n\u001b[0;31m    predicted['score'].iloc(i) = predicted_score\u001b[0m\n\u001b[0m    ^\u001b[0m\n\u001b[0;31mSyntaxError\u001b[0m\u001b[0;31m:\u001b[0m cannot assign to function call\n"
     ]
    }
   ],
   "source": [
    "def ranking(df_for_prediction: pd.DataFrame, model):\n",
    "\n",
    "    predicted = df_for_prediction['Sale Id']\n",
    "    predicted['score'] = 0\n",
    "\n",
    "    df_for_prediction = df_for_prediction.drop(['Sale Id', 'Start At'])\n",
    "\n",
    "    for i in df_for_prediction.index:\n",
    "        predicted_score = model.predict(df_for_prediction.iloc(i))\n",
    "        predicted['score'][i] = predicted_score\n",
    "    \n",
    "    return predicted"
   ]
  },
  {
   "cell_type": "code",
   "execution_count": 93,
   "metadata": {},
   "outputs": [
    {
     "name": "stderr",
     "output_type": "stream",
     "text": [
      "/var/folders/r8/txzynl1j0xj6xzvf7622s2vw0000gn/T/ipykernel_1038/1929778332.py:2: SettingWithCopyWarning: \n",
      "A value is trying to be set on a copy of a slice from a DataFrame.\n",
      "Try using .loc[row_indexer,col_indexer] = value instead\n",
      "\n",
      "See the caveats in the documentation: https://pandas.pydata.org/pandas-docs/stable/user_guide/indexing.html#returning-a-view-versus-a-copy\n",
      "  predicted['score'] = 0\n"
     ]
    }
   ],
   "source": [
    "predicted = available_sales\n",
    "predicted['score'] = 0"
   ]
  },
  {
   "cell_type": "code",
   "execution_count": 102,
   "metadata": {},
   "outputs": [
    {
     "data": {
      "text/plain": [
       "0"
      ]
     },
     "execution_count": 102,
     "metadata": {},
     "output_type": "execute_result"
    }
   ],
   "source": [
    "predicted['score'][28]"
   ]
  },
  {
   "cell_type": "code",
   "execution_count": null,
   "metadata": {},
   "outputs": [],
   "source": []
  }
 ],
 "metadata": {
  "kernelspec": {
   "display_name": "Python 3",
   "language": "python",
   "name": "python3"
  },
  "language_info": {
   "codemirror_mode": {
    "name": "ipython",
    "version": 3
   },
   "file_extension": ".py",
   "mimetype": "text/x-python",
   "name": "python",
   "nbconvert_exporter": "python",
   "pygments_lexer": "ipython3",
   "version": "3.9.16"
  },
  "orig_nbformat": 4
 },
 "nbformat": 4,
 "nbformat_minor": 2
}
