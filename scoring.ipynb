{
 "cells": [
  {
   "cell_type": "code",
   "execution_count": 2,
   "metadata": {},
   "outputs": [],
   "source": [
    "import pandas as pd\n",
    "from tqdm import tqdm\n",
    "import numpy as np"
   ]
  },
  {
   "cell_type": "code",
   "execution_count": 3,
   "metadata": {},
   "outputs": [],
   "source": [
    "data_sales = pd.read_csv('sales__metadata-2023.csv')\n",
    "clic_sales = pd.read_csv('user_events__click_sale-2023.csv')"
   ]
  },
  {
   "cell_type": "code",
   "execution_count": 4,
   "metadata": {},
   "outputs": [],
   "source": [
    "def creating_negative_interactions(user_events: pd.DataFrame):\n",
    "    \"\"\"\n",
    "    The aim of this function is to create negative samples from a dataset of interactions between users and sales.\n",
    "    \"\"\"\n",
    "\n",
    "    # Get a list of all sales\n",
    "    all_saleIds = clic_sales['sale_id'].unique()\n",
    "\n",
    "    # Placeholders that will hold the training data\n",
    "    users, sales, labels = [], [], []\n",
    "\n",
    "    # This is the set of sales that each user has interaction with\n",
    "    user_sale_set = set(zip(clic_sales['user_id'], clic_sales['sale_id']))\n",
    "\n",
    "    # 1:1 ratio of negative to positive samples\n",
    "    num_negatives = 1\n",
    "\n",
    "    for (u, i) in tqdm(user_sale_set):\n",
    "        users.append(u)\n",
    "        sales.append(i)\n",
    "        labels.append(1) # items that the user has interacted with are positive\n",
    "        for _ in range(num_negatives):\n",
    "            # randomly select an item\n",
    "            negative_item = np.random.choice(all_saleIds) \n",
    "            # check that the user has not interacted with this item\n",
    "            while (u, negative_item) in user_sale_set:\n",
    "                negative_item = np.random.choice(all_saleIds)\n",
    "            users.append(u)\n",
    "            sales.append(negative_item)\n",
    "            labels.append(0)\n",
    "\n",
    "    augmented_interactions = pd.DataFrame({'user_id':users, 'sale_id': sales, 'interaction': labels})\n",
    "\n",
    "    return augmented_interactions"
   ]
  },
  {
   "cell_type": "code",
   "execution_count": 5,
   "metadata": {},
   "outputs": [
    {
     "name": "stderr",
     "output_type": "stream",
     "text": [
      "100%|██████████| 7920106/7920106 [01:16<00:00, 103827.58it/s]\n"
     ]
    }
   ],
   "source": [
    "augmented_data = creating_negative_interactions(clic_sales)"
   ]
  },
  {
   "cell_type": "code",
   "execution_count": 6,
   "metadata": {},
   "outputs": [
    {
     "data": {
      "text/html": [
       "<div>\n",
       "<style scoped>\n",
       "    .dataframe tbody tr th:only-of-type {\n",
       "        vertical-align: middle;\n",
       "    }\n",
       "\n",
       "    .dataframe tbody tr th {\n",
       "        vertical-align: top;\n",
       "    }\n",
       "\n",
       "    .dataframe thead th {\n",
       "        text-align: right;\n",
       "    }\n",
       "</style>\n",
       "<table border=\"1\" class=\"dataframe\">\n",
       "  <thead>\n",
       "    <tr style=\"text-align: right;\">\n",
       "      <th></th>\n",
       "      <th>user_id</th>\n",
       "      <th>sale_id</th>\n",
       "      <th>interaction</th>\n",
       "    </tr>\n",
       "  </thead>\n",
       "  <tbody>\n",
       "    <tr>\n",
       "      <th>0</th>\n",
       "      <td>dCDOUoZdh0fP4pf7GAIUyrMy7D22</td>\n",
       "      <td>f2e175b91ffc4c0794e8cbaff</td>\n",
       "      <td>1</td>\n",
       "    </tr>\n",
       "    <tr>\n",
       "      <th>1</th>\n",
       "      <td>dCDOUoZdh0fP4pf7GAIUyrMy7D22</td>\n",
       "      <td>5d5391f18b914449a59001ae3</td>\n",
       "      <td>0</td>\n",
       "    </tr>\n",
       "    <tr>\n",
       "      <th>2</th>\n",
       "      <td>ihIT39VE9RTJhVBz5LZzPqxHe5X2</td>\n",
       "      <td>5f7ef8dd863a48c5907688eac</td>\n",
       "      <td>1</td>\n",
       "    </tr>\n",
       "    <tr>\n",
       "      <th>3</th>\n",
       "      <td>ihIT39VE9RTJhVBz5LZzPqxHe5X2</td>\n",
       "      <td>1b050e3c1bea4521a1cab5b04</td>\n",
       "      <td>0</td>\n",
       "    </tr>\n",
       "    <tr>\n",
       "      <th>4</th>\n",
       "      <td>o5T2bfIdandbpKJ0IZDz9vA04XH3</td>\n",
       "      <td>11be041fc71046348b1ae7c15</td>\n",
       "      <td>1</td>\n",
       "    </tr>\n",
       "    <tr>\n",
       "      <th>...</th>\n",
       "      <td>...</td>\n",
       "      <td>...</td>\n",
       "      <td>...</td>\n",
       "    </tr>\n",
       "    <tr>\n",
       "      <th>15840207</th>\n",
       "      <td>9UA0EBxNfcYHAWjvucpS2ZzqzFm1</td>\n",
       "      <td>43775c67647c4caeac9e9b058</td>\n",
       "      <td>0</td>\n",
       "    </tr>\n",
       "    <tr>\n",
       "      <th>15840208</th>\n",
       "      <td>8gudYcFDReP06ceSDr7lpo5kCiy2</td>\n",
       "      <td>dacba29e64b849189066c3733</td>\n",
       "      <td>1</td>\n",
       "    </tr>\n",
       "    <tr>\n",
       "      <th>15840209</th>\n",
       "      <td>8gudYcFDReP06ceSDr7lpo5kCiy2</td>\n",
       "      <td>811b885029d2441f8c2579438</td>\n",
       "      <td>0</td>\n",
       "    </tr>\n",
       "    <tr>\n",
       "      <th>15840210</th>\n",
       "      <td>jiWWW32n4lUTh3TC975MQsf6IqM2</td>\n",
       "      <td>f8e4d76f222443b6a05c57928</td>\n",
       "      <td>1</td>\n",
       "    </tr>\n",
       "    <tr>\n",
       "      <th>15840211</th>\n",
       "      <td>jiWWW32n4lUTh3TC975MQsf6IqM2</td>\n",
       "      <td>b131761a880b4a27a975f8f52</td>\n",
       "      <td>0</td>\n",
       "    </tr>\n",
       "  </tbody>\n",
       "</table>\n",
       "<p>15840212 rows × 3 columns</p>\n",
       "</div>"
      ],
      "text/plain": [
       "                               user_id                    sale_id  interaction\n",
       "0         dCDOUoZdh0fP4pf7GAIUyrMy7D22  f2e175b91ffc4c0794e8cbaff            1\n",
       "1         dCDOUoZdh0fP4pf7GAIUyrMy7D22  5d5391f18b914449a59001ae3            0\n",
       "2         ihIT39VE9RTJhVBz5LZzPqxHe5X2  5f7ef8dd863a48c5907688eac            1\n",
       "3         ihIT39VE9RTJhVBz5LZzPqxHe5X2  1b050e3c1bea4521a1cab5b04            0\n",
       "4         o5T2bfIdandbpKJ0IZDz9vA04XH3  11be041fc71046348b1ae7c15            1\n",
       "...                                ...                        ...          ...\n",
       "15840207  9UA0EBxNfcYHAWjvucpS2ZzqzFm1  43775c67647c4caeac9e9b058            0\n",
       "15840208  8gudYcFDReP06ceSDr7lpo5kCiy2  dacba29e64b849189066c3733            1\n",
       "15840209  8gudYcFDReP06ceSDr7lpo5kCiy2  811b885029d2441f8c2579438            0\n",
       "15840210  jiWWW32n4lUTh3TC975MQsf6IqM2  f8e4d76f222443b6a05c57928            1\n",
       "15840211  jiWWW32n4lUTh3TC975MQsf6IqM2  b131761a880b4a27a975f8f52            0\n",
       "\n",
       "[15840212 rows x 3 columns]"
      ]
     },
     "execution_count": 6,
     "metadata": {},
     "output_type": "execute_result"
    }
   ],
   "source": [
    "augmented_data"
   ]
  },
  {
   "cell_type": "code",
   "execution_count": null,
   "metadata": {},
   "outputs": [],
   "source": []
  }
 ],
 "metadata": {
  "kernelspec": {
   "display_name": "Python 3",
   "language": "python",
   "name": "python3"
  },
  "language_info": {
   "codemirror_mode": {
    "name": "ipython",
    "version": 3
   },
   "file_extension": ".py",
   "mimetype": "text/x-python",
   "name": "python",
   "nbconvert_exporter": "python",
   "pygments_lexer": "ipython3",
   "version": "3.9.16"
  },
  "orig_nbformat": 4
 },
 "nbformat": 4,
 "nbformat_minor": 2
}
