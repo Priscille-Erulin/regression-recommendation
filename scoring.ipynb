{
 "cells": [
  {
   "cell_type": "code",
   "execution_count": 245,
   "metadata": {},
   "outputs": [],
   "source": [
    "import pandas as pd\n",
    "import pickle\n",
    "from sklearn.feature_extraction.text import CountVectorizer\n",
    "\n",
    "from sklearn.metrics import average_precision_score\n"
   ]
  },
  {
   "cell_type": "code",
   "execution_count": 129,
   "metadata": {},
   "outputs": [],
   "source": [
    "scored_train_data = pd.read_csv('preped_train_data_wth_dummies.csv', index_col=0)\n",
    "all_sales = pd.read_csv('pp_sales_jan23_avr23.csv', index_col=0)\n"
   ]
  },
  {
   "cell_type": "code",
   "execution_count": 239,
   "metadata": {},
   "outputs": [],
   "source": [
    "user_id = 'zzWUNSYQ2CWwopiILtUU4kaBEm13'\n",
    "user_information = scored_train_data[['User Key', 'Recency', 'Frequency', 'Monetary']]\n",
    "available_dates = ['2023-03-26', '2023-04-18', '2023-04-08']\n",
    "available_sales = all_sales[all_sales['Start At'].isin(available_dates)]\n",
    "model = pickle.load(open('reg_model.pkl', 'rb'))\n",
    "training_columns = ['log_Followers', 'log_Brand Appearance', 'log_Avg Price',\n",
    "       'Avg Discount', 'log_First Day Revenue', 'Conversion', 'Recency',\n",
    "       'Frequency', 'Monetary', 'Artisanal', 'Bien-être', 'Bio',\n",
    "       'Biodégradable', 'Cadeau idéal', 'Concept original', 'Durable',\n",
    "       'Exclusivité Choose', 'Fabrication à la demande', 'Fait main',\n",
    "       'Gluten Free', 'Iconique', 'Inclusive', 'Innovation',\n",
    "       'La Fournée Ulule', 'Made in Europe', 'Made in France', 'Naturel',\n",
    "       'Oeko-Tex', 'Premium', 'Recyclable', 'Savoir-faire',\n",
    "       'Socialement engagée', 'Série limitée', 'Tendance', 'Upcycling',\n",
    "       'Vegan', 'ZéroDéchet', 'Éco-friendly', 'Accessoires', 'Beauté',\n",
    "       'Bibliothèque', 'Bien-Être', 'Bijoux', 'Buanderie', 'Chambre',\n",
    "       'Chaussures', 'Cuisine', 'Cures', 'Expériences', 'Hygiène', 'Lingerie',\n",
    "       'Maroquinerie', 'Outdoor', 'Prêt-à-porter', 'Salon', 'Soins',\n",
    "       'Sportswear']"
   ]
  },
  {
   "cell_type": "code",
   "execution_count": 102,
   "metadata": {},
   "outputs": [],
   "source": [
    "def creating_entry_data(user_id, user_information, available_sales: pd.DataFrame):\n",
    "    \"\"\" \n",
    "    Aims at returning ranked sales for a given user\n",
    "    \"\"\"\n",
    "\n",
    "    user_specific_information = user_information[user_information['User Key'] == user_id].drop('User Key', axis = 1)\n",
    "\n",
    "\n",
    "    user_features = user_specific_information.columns\n",
    "\n",
    "    df_for_predictions = available_sales.__deepcopy__().reset_index(drop = True)\n",
    "    user_specific_df = pd.concat([user_specific_information] *len (df_for_predictions), ignore_index=True)\n",
    "\n",
    "    df_for_predictions[user_features] = user_specific_df\n",
    "\n",
    "    return df_for_predictions\n"
   ]
  },
  {
   "cell_type": "code",
   "execution_count": 204,
   "metadata": {},
   "outputs": [],
   "source": [
    "def ranking(df_for_prediction: pd.DataFrame, model, prediction_cols):\n",
    "\n",
    "    predicted = pd.DataFrame(df_for_prediction['Sale ID'])\n",
    "    \n",
    "\n",
    "    # df_for_prediction = df_for_prediction.drop(columns=['Sale ID', 'Start At'])\n",
    "\n",
    "    \n",
    "    predicted_score = model.predict(df_for_prediction[training_columns])\n",
    "    predicted['score'] = [i for i in predicted_score.flatten()]\n",
    "\n",
    "    ordered_sales = predicted.sort_values('score')\n",
    "\n",
    "    return ordered_sales"
   ]
  },
  {
   "cell_type": "code",
   "execution_count": 199,
   "metadata": {},
   "outputs": [],
   "source": [
    "df_for_pred = creating_entry_data('yQHcG2KlpVg6TKKY0IOMI1JqDqo1',user_information, available_sales)"
   ]
  },
  {
   "cell_type": "code",
   "execution_count": 242,
   "metadata": {},
   "outputs": [],
   "source": [
    "predict = ranking(df_for_pred, model, training_columns)"
   ]
  },
  {
   "cell_type": "code",
   "execution_count": 240,
   "metadata": {},
   "outputs": [],
   "source": [
    "user_specific = scored_train_data[(scored_train_data['User Key'] == user_id ) & (scored_train_data['interaction'] ==  1)]\n",
    "\n",
    "truth = pd.DataFrame(available_sales['Sale ID'])\n",
    "truth['score'] = available_sales['Sale ID'].isin(user_specific['Sale ID']).astype(int)\n"
   ]
  },
  {
   "cell_type": "code",
   "execution_count": null,
   "metadata": {},
   "outputs": [],
   "source": []
  },
  {
   "cell_type": "code",
   "execution_count": null,
   "metadata": {},
   "outputs": [],
   "source": []
  }
 ],
 "metadata": {
  "kernelspec": {
   "display_name": "Python 3",
   "language": "python",
   "name": "python3"
  },
  "language_info": {
   "codemirror_mode": {
    "name": "ipython",
    "version": 3
   },
   "file_extension": ".py",
   "mimetype": "text/x-python",
   "name": "python",
   "nbconvert_exporter": "python",
   "pygments_lexer": "ipython3",
   "version": "3.9.16"
  },
  "orig_nbformat": 4
 },
 "nbformat": 4,
 "nbformat_minor": 2
}
