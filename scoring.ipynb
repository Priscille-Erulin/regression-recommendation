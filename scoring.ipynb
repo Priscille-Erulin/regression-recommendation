{
 "cells": [
  {
   "cell_type": "code",
   "execution_count": 1,
   "metadata": {},
   "outputs": [],
   "source": [
    "import pandas as pd\n"
   ]
  },
  {
   "cell_type": "code",
   "execution_count": 2,
   "metadata": {},
   "outputs": [],
   "source": [
    "data_sales = pd.read_csv('sales__metadata-2023.csv')\n",
    "clic_sales = pd.read_csv('user_events__click_sale-2023.csv')"
   ]
  },
  {
   "cell_type": "code",
   "execution_count": 3,
   "metadata": {},
   "outputs": [],
   "source": [
    "def scoring(user_events:pd.DataFrame):\n",
    "\n",
    "    # Use pivot_table to create a dataframe with binary indicators of user-item pairs\n",
    "    new_df = user_events.pivot_table(index='user_id', columns='sale_id', aggfunc=lambda x: 1, fill_value=0)\n",
    "\n",
    "    # Reset the index and column names\n",
    "    new_df = new_df.reset_index().rename_axis(None, axis=1).rename(columns={'index': 'user_id'})\n",
    "\n",
    "    return new_df"
   ]
  },
  {
   "cell_type": "code",
   "execution_count": 8,
   "metadata": {},
   "outputs": [],
   "source": [
    "def scoring_1(user_events: pd.DataFrame):\n",
    "    \"\"\"\n",
    "    Adds a scoring column filled with 1s.\n",
    "    \"\"\"\n",
    "    user_events['score'] = [1 for i in user_events.index]\n",
    "\n",
    "    return user_events\n"
   ]
  },
  {
   "cell_type": "code",
   "execution_count": 15,
   "metadata": {},
   "outputs": [],
   "source": [
    "def returns_seen_sale(user_events):\n",
    "    \"\"\"\n",
    "    For each user, finds at random an unseen sale\n",
    "    \"\"\"\n",
    "    for i in user_events['user_id']:\n",
    "        seen_sales = user_events['sale_id'][user_events['user_id']==i]\n",
    "        return seen_sales\n",
    "\n",
    "    # return seen_sales\n"
   ]
  },
  {
   "cell_type": "code",
   "execution_count": 16,
   "metadata": {},
   "outputs": [
    {
     "data": {
      "text/plain": [
       "0          a929100fdb9e45459a9782762\n",
       "9471       451d02ce288645b29d8936be6\n",
       "963755     451d02ce288645b29d8936be6\n",
       "963817     0aad4842c40d40c8a85c8a100\n",
       "964991     451d02ce288645b29d8936be6\n",
       "3047306    451d02ce288645b29d8936be6\n",
       "3047950    451d02ce288645b29d8936be6\n",
       "4299046    934ccd57499e4df1b4374d8fe\n",
       "4362277    547189d172fa4a0a819e5ac8d\n",
       "5873781    451d02ce288645b29d8936be6\n",
       "5875348    0aad4842c40d40c8a85c8a100\n",
       "5875413    5b960f8d276344b98ceb9c749\n",
       "5875535    451d02ce288645b29d8936be6\n",
       "6567917    451d02ce288645b29d8936be6\n",
       "6569530    db7518ee5c624fbeb8e5ddc9e\n",
       "6885149    479d3d614e7f46b5a1d7c865d\n",
       "Name: sale_id, dtype: object"
      ]
     },
     "execution_count": 16,
     "metadata": {},
     "output_type": "execute_result"
    }
   ],
   "source": [
    "returns_seen_sale(clic_sales)"
   ]
  },
  {
   "cell_type": "code",
   "execution_count": null,
   "metadata": {},
   "outputs": [],
   "source": []
  }
 ],
 "metadata": {
  "kernelspec": {
   "display_name": "Python 3",
   "language": "python",
   "name": "python3"
  },
  "language_info": {
   "codemirror_mode": {
    "name": "ipython",
    "version": 3
   },
   "file_extension": ".py",
   "mimetype": "text/x-python",
   "name": "python",
   "nbconvert_exporter": "python",
   "pygments_lexer": "ipython3",
   "version": "3.9.16"
  },
  "orig_nbformat": 4
 },
 "nbformat": 4,
 "nbformat_minor": 2
}
