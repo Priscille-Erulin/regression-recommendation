{
 "cells": [
  {
   "cell_type": "code",
   "execution_count": 1,
   "metadata": {},
   "outputs": [],
   "source": [
    "import pandas as pd\n",
    "import pickle\n",
    "import numpy as np\n",
    "\n",
    "import sale_preprocessing as prep"
   ]
  },
  {
   "cell_type": "code",
   "execution_count": 11,
   "metadata": {},
   "outputs": [],
   "source": [
    "num_columns = ['log_Followers',\n",
    "               'log_Avg Price',\n",
    "               'log_First Day Revenue',\n",
    "               'log_Brand Appearance',\n",
    "               'Avg Discount',\n",
    "               'Conversion']\n",
    "\n",
    "log_columns = ['Followers', 'Avg Price', 'First Day Revenue', 'Brand Appearance']"
   ]
  },
  {
   "cell_type": "code",
   "execution_count": 2,
   "metadata": {},
   "outputs": [],
   "source": [
    "scaler = pickle.load(open('scaler_numerical.sav', 'rb'))\n",
    "all_sales = pd.read_csv('sales_jan23_avr23.csv')"
   ]
  },
  {
   "cell_type": "code",
   "execution_count": 4,
   "metadata": {},
   "outputs": [
    {
     "ename": "TypeError",
     "evalue": "sales_pre_pocessing() missing 2 required positional arguments: 'scaler' and 'cols_to_scale'",
     "output_type": "error",
     "traceback": [
      "\u001b[0;31m---------------------------------------------------------------------------\u001b[0m",
      "\u001b[0;31mTypeError\u001b[0m                                 Traceback (most recent call last)",
      "\u001b[0;32m/var/folders/r8/txzynl1j0xj6xzvf7622s2vw0000gn/T/ipykernel_98219/1657996557.py\u001b[0m in \u001b[0;36m<cell line: 1>\u001b[0;34m()\u001b[0m\n\u001b[0;32m----> 1\u001b[0;31m \u001b[0mprocessed_sales\u001b[0m \u001b[0;34m=\u001b[0m \u001b[0mprep\u001b[0m\u001b[0;34m.\u001b[0m\u001b[0msales_pre_pocessing\u001b[0m\u001b[0;34m(\u001b[0m\u001b[0mall_sales\u001b[0m\u001b[0;34m,\u001b[0m \u001b[0mscaler\u001b[0m\u001b[0;34m)\u001b[0m\u001b[0;34m\u001b[0m\u001b[0;34m\u001b[0m\u001b[0m\n\u001b[0m",
      "\u001b[0;31mTypeError\u001b[0m: sales_pre_pocessing() missing 2 required positional arguments: 'scaler' and 'cols_to_scale'"
     ]
    }
   ],
   "source": [
    "processed_sales = prep.sales_pre_pocessing(all_sales, scaler = scaler)"
   ]
  },
  {
   "cell_type": "code",
   "execution_count": 33,
   "metadata": {},
   "outputs": [],
   "source": [
    "processed_sales.to_csv('pp_sales_jan23_avr23.csv')"
   ]
  }
 ],
 "metadata": {
  "kernelspec": {
   "display_name": "Python 3",
   "language": "python",
   "name": "python3"
  },
  "language_info": {
   "codemirror_mode": {
    "name": "ipython",
    "version": 3
   },
   "file_extension": ".py",
   "mimetype": "text/x-python",
   "name": "python",
   "nbconvert_exporter": "python",
   "pygments_lexer": "ipython3",
   "version": "3.9.16"
  },
  "orig_nbformat": 4
 },
 "nbformat": 4,
 "nbformat_minor": 2
}
