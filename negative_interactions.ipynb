{
 "cells": [
  {
   "cell_type": "code",
   "execution_count": 1,
   "metadata": {},
   "outputs": [],
   "source": [
    "import pandas as pd\n",
    "from tqdm import tqdm\n",
    "import numpy as np"
   ]
  },
  {
   "cell_type": "code",
   "execution_count": 2,
   "metadata": {},
   "outputs": [],
   "source": [
    "data_sales = pd.read_csv('sales__metadata-2023.csv')\n",
    "clic_sales = pd.read_csv('user_events__click_sale-2023.csv')"
   ]
  },
  {
   "cell_type": "code",
   "execution_count": 51,
   "metadata": {},
   "outputs": [],
   "source": [
    "def creating_negative_interactions(user_events: pd.DataFrame):\n",
    "    \"\"\"\n",
    "    The aim of this function is to create negative samples from a dataset of interactions between users and sales.\n",
    "    \"\"\"\n",
    "\n",
    "    # Get a list of all sales\n",
    "    all_saleIds = user_events['sale_id'].unique()\n",
    "\n",
    "    # Placeholders that will hold the training data\n",
    "    users, sales, labels = [], [], []\n",
    "\n",
    "    # This is the set of sales that each user has interaction with\n",
    "    user_sale_set = set(zip(user_events['user_id'], user_events['sale_id']))\n",
    "\n",
    "    # 1:1 ratio of negative to positive samples\n",
    "    num_negatives = 1\n",
    "\n",
    "    for (u, i) in tqdm(user_sale_set):\n",
    "        users.append(u)\n",
    "        sales.append(i)\n",
    "        labels.append(1) # items that the user has interacted with are positive\n",
    "        for _ in range(num_negatives):\n",
    "            # randomly select an item\n",
    "            negative_item = np.random.choice(all_saleIds) \n",
    "            # check that the user has not interacted with this item\n",
    "            while (u, negative_item) in user_sale_set:\n",
    "                negative_item = np.random.choice(all_saleIds)\n",
    "            users.append(u)\n",
    "            sales.append(negative_item)\n",
    "            labels.append(0)\n",
    "\n",
    "    augmented_interactions = pd.DataFrame({'user_id':users, 'sale_id': sales, 'interaction': labels})\n",
    "\n",
    "    return augmented_interactions"
   ]
  },
  {
   "cell_type": "code",
   "execution_count": 7,
   "metadata": {},
   "outputs": [],
   "source": [
    "def add_features(interaction: pd.DataFrame, sale_info: pd.DataFrame = None, user_info: pd.DataFrame = None):\n",
    "    \"\"\"\n",
    "    The aim of this function is to add the user and sale features to the dataset.\n",
    "    \"\"\"\n",
    "    \n",
    "    featured_data = interaction.merge(sale_info, on='sale_id', how ='left')\n",
    "    if user_info!=None:\n",
    "        featured_data = featured_data.merge(user_info, on='user_id', how = 'left')\n",
    "    \n",
    "    return featured_data"
   ]
  },
  {
   "cell_type": "code",
   "execution_count": 8,
   "metadata": {},
   "outputs": [
    {
     "name": "stderr",
     "output_type": "stream",
     "text": [
      "100%|██████████| 7920106/7920106 [01:21<00:00, 96750.56it/s] \n"
     ]
    }
   ],
   "source": [
    "augmented_data = creating_negative_interactions(clic_sales)"
   ]
  },
  {
   "cell_type": "code",
   "execution_count": 9,
   "metadata": {},
   "outputs": [],
   "source": [
    "scored_data = add_features(augmented_data,data_sales)"
   ]
  },
  {
   "cell_type": "code",
   "execution_count": null,
   "metadata": {},
   "outputs": [
    {
     "data": {
      "text/html": [
       "<div>\n",
       "<style scoped>\n",
       "    .dataframe tbody tr th:only-of-type {\n",
       "        vertical-align: middle;\n",
       "    }\n",
       "\n",
       "    .dataframe tbody tr th {\n",
       "        vertical-align: top;\n",
       "    }\n",
       "\n",
       "    .dataframe thead th {\n",
       "        text-align: right;\n",
       "    }\n",
       "</style>\n",
       "<table border=\"1\" class=\"dataframe\">\n",
       "  <thead>\n",
       "    <tr style=\"text-align: right;\">\n",
       "      <th></th>\n",
       "      <th>user_id</th>\n",
       "      <th>event_date</th>\n",
       "      <th>server_time</th>\n",
       "      <th>event_name</th>\n",
       "      <th>sale_id</th>\n",
       "      <th>status</th>\n",
       "      <th>platform</th>\n",
       "    </tr>\n",
       "  </thead>\n",
       "  <tbody>\n",
       "    <tr>\n",
       "      <th>0</th>\n",
       "      <td>TsX5qcCf3WO8qLGxhddfRqPFLks1</td>\n",
       "      <td>2023-02-08</td>\n",
       "      <td>2023-02-08 00:00:10.178052 UTC</td>\n",
       "      <td>ClickSale</td>\n",
       "      <td>a929100fdb9e45459a9782762</td>\n",
       "      <td>ongoing</td>\n",
       "      <td>ios</td>\n",
       "    </tr>\n",
       "    <tr>\n",
       "      <th>1</th>\n",
       "      <td>dEyVggd7NZR2W3qtrVKdT0ECL8E2</td>\n",
       "      <td>2023-02-08</td>\n",
       "      <td>2023-02-08 00:00:25.810047 UTC</td>\n",
       "      <td>ClickSale</td>\n",
       "      <td>db7518ee5c624fbeb8e5ddc9e</td>\n",
       "      <td>ongoing</td>\n",
       "      <td>ios</td>\n",
       "    </tr>\n",
       "    <tr>\n",
       "      <th>2</th>\n",
       "      <td>FVjBUoHogzg6fvaQYqgdC2pCAA83</td>\n",
       "      <td>2023-02-08</td>\n",
       "      <td>2023-02-08 00:00:36.469548 UTC</td>\n",
       "      <td>ClickSale</td>\n",
       "      <td>b71bbbee4a864b609656bba5d</td>\n",
       "      <td>ongoing</td>\n",
       "      <td>ios</td>\n",
       "    </tr>\n",
       "    <tr>\n",
       "      <th>3</th>\n",
       "      <td>dEyVggd7NZR2W3qtrVKdT0ECL8E2</td>\n",
       "      <td>2023-02-08</td>\n",
       "      <td>2023-02-08 00:00:37.663173 UTC</td>\n",
       "      <td>ClickSale</td>\n",
       "      <td>5e72119da26b4ae687627520d</td>\n",
       "      <td>ongoing</td>\n",
       "      <td>ios</td>\n",
       "    </tr>\n",
       "    <tr>\n",
       "      <th>4</th>\n",
       "      <td>s8FDEtzv2EfLNtHM2oGJGNJcJ5K2</td>\n",
       "      <td>2023-02-08</td>\n",
       "      <td>2023-02-08 00:00:39.916514 UTC</td>\n",
       "      <td>ClickSale</td>\n",
       "      <td>a929100fdb9e45459a9782762</td>\n",
       "      <td>ongoing</td>\n",
       "      <td>android</td>\n",
       "    </tr>\n",
       "    <tr>\n",
       "      <th>...</th>\n",
       "      <td>...</td>\n",
       "      <td>...</td>\n",
       "      <td>...</td>\n",
       "      <td>...</td>\n",
       "      <td>...</td>\n",
       "      <td>...</td>\n",
       "      <td>...</td>\n",
       "    </tr>\n",
       "    <tr>\n",
       "      <th>9082237</th>\n",
       "      <td>6L8mi9NSyrVevHjwlcgEwztYdK82</td>\n",
       "      <td>2023-01-22</td>\n",
       "      <td>2023-01-22 23:59:13.399079 UTC</td>\n",
       "      <td>ClickSale</td>\n",
       "      <td>70bdbc0938514dada1bb08a18</td>\n",
       "      <td>ongoing</td>\n",
       "      <td>ios</td>\n",
       "    </tr>\n",
       "    <tr>\n",
       "      <th>9082238</th>\n",
       "      <td>Z9LiLDV1NwNOCQjwBR5uqE5nIlq1</td>\n",
       "      <td>2023-01-22</td>\n",
       "      <td>2023-01-22 23:59:13.559368 UTC</td>\n",
       "      <td>ClickSale</td>\n",
       "      <td>15755123dc6d4f7284aa22275</td>\n",
       "      <td>ongoing</td>\n",
       "      <td>ios</td>\n",
       "    </tr>\n",
       "    <tr>\n",
       "      <th>9082239</th>\n",
       "      <td>WB7u08ayyQXTeolVYOIKiDxj0bc2</td>\n",
       "      <td>2023-01-22</td>\n",
       "      <td>2023-01-22 23:59:31.990139 UTC</td>\n",
       "      <td>ClickSale</td>\n",
       "      <td>10bd38dac8504b0e99c2a4d23</td>\n",
       "      <td>ongoing</td>\n",
       "      <td>ios</td>\n",
       "    </tr>\n",
       "    <tr>\n",
       "      <th>9082240</th>\n",
       "      <td>p3vtQMxxtcbvedhtZBPIjypINW62</td>\n",
       "      <td>2023-01-22</td>\n",
       "      <td>2023-01-22 23:59:43.490519 UTC</td>\n",
       "      <td>ClickSale</td>\n",
       "      <td>6e9cf2fe52e84e9e9159ca0e0</td>\n",
       "      <td>ongoing</td>\n",
       "      <td>ios</td>\n",
       "    </tr>\n",
       "    <tr>\n",
       "      <th>9082241</th>\n",
       "      <td>iKSJAocILFWj4GAH2ggGw7wSXwf1</td>\n",
       "      <td>2023-01-22</td>\n",
       "      <td>2023-01-22 23:59:48.492166 UTC</td>\n",
       "      <td>ClickSale</td>\n",
       "      <td>13eac94f59de44de86a03fda3</td>\n",
       "      <td>upcoming</td>\n",
       "      <td>ios</td>\n",
       "    </tr>\n",
       "  </tbody>\n",
       "</table>\n",
       "<p>9082242 rows × 7 columns</p>\n",
       "</div>"
      ],
      "text/plain": [
       "                              user_id  event_date  \\\n",
       "0        TsX5qcCf3WO8qLGxhddfRqPFLks1  2023-02-08   \n",
       "1        dEyVggd7NZR2W3qtrVKdT0ECL8E2  2023-02-08   \n",
       "2        FVjBUoHogzg6fvaQYqgdC2pCAA83  2023-02-08   \n",
       "3        dEyVggd7NZR2W3qtrVKdT0ECL8E2  2023-02-08   \n",
       "4        s8FDEtzv2EfLNtHM2oGJGNJcJ5K2  2023-02-08   \n",
       "...                               ...         ...   \n",
       "9082237  6L8mi9NSyrVevHjwlcgEwztYdK82  2023-01-22   \n",
       "9082238  Z9LiLDV1NwNOCQjwBR5uqE5nIlq1  2023-01-22   \n",
       "9082239  WB7u08ayyQXTeolVYOIKiDxj0bc2  2023-01-22   \n",
       "9082240  p3vtQMxxtcbvedhtZBPIjypINW62  2023-01-22   \n",
       "9082241  iKSJAocILFWj4GAH2ggGw7wSXwf1  2023-01-22   \n",
       "\n",
       "                            server_time event_name                    sale_id  \\\n",
       "0        2023-02-08 00:00:10.178052 UTC  ClickSale  a929100fdb9e45459a9782762   \n",
       "1        2023-02-08 00:00:25.810047 UTC  ClickSale  db7518ee5c624fbeb8e5ddc9e   \n",
       "2        2023-02-08 00:00:36.469548 UTC  ClickSale  b71bbbee4a864b609656bba5d   \n",
       "3        2023-02-08 00:00:37.663173 UTC  ClickSale  5e72119da26b4ae687627520d   \n",
       "4        2023-02-08 00:00:39.916514 UTC  ClickSale  a929100fdb9e45459a9782762   \n",
       "...                                 ...        ...                        ...   \n",
       "9082237  2023-01-22 23:59:13.399079 UTC  ClickSale  70bdbc0938514dada1bb08a18   \n",
       "9082238  2023-01-22 23:59:13.559368 UTC  ClickSale  15755123dc6d4f7284aa22275   \n",
       "9082239  2023-01-22 23:59:31.990139 UTC  ClickSale  10bd38dac8504b0e99c2a4d23   \n",
       "9082240  2023-01-22 23:59:43.490519 UTC  ClickSale  6e9cf2fe52e84e9e9159ca0e0   \n",
       "9082241  2023-01-22 23:59:48.492166 UTC  ClickSale  13eac94f59de44de86a03fda3   \n",
       "\n",
       "           status platform  \n",
       "0         ongoing      ios  \n",
       "1         ongoing      ios  \n",
       "2         ongoing      ios  \n",
       "3         ongoing      ios  \n",
       "4         ongoing  android  \n",
       "...           ...      ...  \n",
       "9082237   ongoing      ios  \n",
       "9082238   ongoing      ios  \n",
       "9082239   ongoing      ios  \n",
       "9082240   ongoing      ios  \n",
       "9082241  upcoming      ios  \n",
       "\n",
       "[9082242 rows x 7 columns]"
      ]
     },
     "execution_count": 26,
     "metadata": {},
     "output_type": "execute_result"
    }
   ],
   "source": [
    "clic_sales"
   ]
  },
  {
   "cell_type": "code",
   "execution_count": null,
   "metadata": {},
   "outputs": [],
   "source": [
    "scored_data.to_csv('scored_data.csv')"
   ]
  },
  {
   "cell_type": "code",
   "execution_count": 50,
   "metadata": {},
   "outputs": [
    {
     "name": "stdout",
     "output_type": "stream",
     "text": [
      "d8dd800fdf794235a8851647e 2023-02-08\n"
     ]
    }
   ],
   "source": [
    "all_saleIds_date = clic_sales[['sale_id','event_date']].drop_duplicates(subset = 'sale_id')\n",
    "user_events = all_saleIds_date[all_saleIds_date['event_date']== '2023-02-08'].sample()[['sale_id','event_date']]\n",
    "print(user_events['sale_id'].tolist()[0], user_events['event_date'].tolist()[0])"
   ]
  },
  {
   "cell_type": "code",
   "execution_count": 35,
   "metadata": {},
   "outputs": [
    {
     "data": {
      "text/plain": [
       "'f189b226da384e008b5efbd5b'"
      ]
     },
     "execution_count": 35,
     "metadata": {},
     "output_type": "execute_result"
    }
   ],
   "source": [
    "all_saleIds = user_events['sale_id'].unique()\n",
    "negative_item = np.random.choice(all_saleIds)\n",
    "negative_item"
   ]
  },
  {
   "cell_type": "code",
   "execution_count": 52,
   "metadata": {},
   "outputs": [],
   "source": [
    "def creating_negative_interactions(user_events: pd.DataFrame):\n",
    "    \"\"\"\n",
    "    The aim of this function is to create negative samples from a dataset of interactions between users and sales.\n",
    "    \"\"\"\n",
    "\n",
    "    # Get a list of all sales\n",
    "    all_saleIds = clic_sales[['sale_id','start_date']].drop_duplicates(subset = 'sale_id')\n",
    "\n",
    "    # Placeholders that will hold the training data\n",
    "    users, sales, date, labels = [], [], [], []\n",
    "\n",
    "    # This is the set of sales that each user has interaction with\n",
    "    user_sale_set = set(zip(user_events['user_id'], user_events['sale_id'], user_events['start_date']))\n",
    "\n",
    "    # 1:1 ratio of negative to positive samples\n",
    "    num_negatives = 1\n",
    "\n",
    "    for (u, i, d) in tqdm(user_sale_set):\n",
    "        users.append(u)\n",
    "        sales.append(i)\n",
    "        date.append(d)\n",
    "        labels.append(1) # items that the user has interacted with are positive\n",
    "        for _ in range(num_negatives):\n",
    "            # randomly select an item\n",
    "            negative_item = all_saleIds[all_saleIds['start_date']== str(d)].sample()[['sale_id','start_date']]\n",
    "            # check that the user has not interacted with this item\n",
    "            while (u, negative_item['sale_id'].tolist()[0], negative_item['start_date'].tolist()[0]) in user_sale_set:\n",
    "                negative_item = all_saleIds[all_saleIds['start_date']== str(d)].sample()[['sale_id','start_date']]\n",
    "            users.append(u)\n",
    "            sales.append(negative_item['sale_id'].tolist()[0])\n",
    "            date.append(negative_item['start_date'].tolist()[0])\n",
    "            labels.append(0)\n",
    "\n",
    "    augmented_interactions = pd.DataFrame({'user_id':users, 'sale_id': sales, 'start_date': date, 'interaction': labels})\n",
    "\n",
    "    return augmented_interactions"
   ]
  },
  {
   "cell_type": "code",
   "execution_count": null,
   "metadata": {},
   "outputs": [],
   "source": []
  }
 ],
 "metadata": {
  "kernelspec": {
   "display_name": "Python 3",
   "language": "python",
   "name": "python3"
  },
  "language_info": {
   "codemirror_mode": {
    "name": "ipython",
    "version": 3
   },
   "file_extension": ".py",
   "mimetype": "text/x-python",
   "name": "python",
   "nbconvert_exporter": "python",
   "pygments_lexer": "ipython3",
   "version": "3.9.16"
  },
  "orig_nbformat": 4
 },
 "nbformat": 4,
 "nbformat_minor": 2
}
