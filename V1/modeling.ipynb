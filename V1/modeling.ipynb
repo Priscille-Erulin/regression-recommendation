{
 "cells": [
  {
   "cell_type": "code",
   "execution_count": 7,
   "metadata": {},
   "outputs": [],
   "source": [
    "import pandas as pd\n",
    "import matplotlib.pyplot as plt\n",
    "import numpy as np\n",
    "import seaborn as sns\n",
    "import tqdm\n",
    "\n",
    "from sklearn.svm import SVR"
   ]
  },
  {
   "cell_type": "code",
   "execution_count": 6,
   "metadata": {},
   "outputs": [],
   "source": [
    "scored_test_data = pd.read_csv('preped_test_data_wth_dummies.csv', index_col=0)\n",
    "score_train_data = pd.read_csv('preped_train_data_wth_dummies.csv', index_col=0)"
   ]
  },
  {
   "cell_type": "code",
   "execution_count": 8,
   "metadata": {},
   "outputs": [],
   "source": [
    "X_train = score_train_data.iloc[:, 3:len(score_train_data.columns)-1]\n",
    "Y_train = score_train_data.iloc[:, len(score_train_data.columns)-1:]\n",
    "Y_train = np.ravel(Y_train)"
   ]
  },
  {
   "cell_type": "code",
   "execution_count": 4,
   "metadata": {},
   "outputs": [
    {
     "data": {
      "text/plain": [
       "LinearRegression()"
      ]
     },
     "execution_count": 4,
     "metadata": {},
     "output_type": "execute_result"
    }
   ],
   "source": [
    "from sklearn.linear_model import LinearRegression #Ordinary Least Squares\n",
    "regr = LinearRegression()\n",
    "\n",
    "# Train the model using the training sets\n",
    "regr.fit(X_train, Y_train)"
   ]
  },
  {
   "cell_type": "code",
   "execution_count": 5,
   "metadata": {},
   "outputs": [
    {
     "data": {
      "text/plain": [
       "Index(['log_Followers', 'log_Brand Appearance', 'log_Avg Price',\n",
       "       'Avg Discount', 'log_First Day Revenue', 'Conversion', 'Recency',\n",
       "       'Frequency', 'Monetary', 'Artisanal', 'Bien-être', 'Bio',\n",
       "       'Biodégradable', 'Cadeau idéal', 'Concept original', 'Durable',\n",
       "       'Exclusivité Choose', 'Fabrication à la demande', 'Fait main',\n",
       "       'Gluten Free', 'Iconique', 'Inclusive', 'Innovation',\n",
       "       'La Fournée Ulule', 'Made in Europe', 'Made in France', 'Naturel',\n",
       "       'Oeko-Tex', 'Premium', 'Recyclable', 'Savoir-faire',\n",
       "       'Socialement engagée', 'Série limitée', 'Tendance', 'Upcycling',\n",
       "       'Vegan', 'ZéroDéchet', 'Éco-friendly', 'Accessoires', 'Beauté',\n",
       "       'Bibliothèque', 'Bien-Être', 'Bijoux', 'Buanderie', 'Chambre',\n",
       "       'Chaussures', 'Cuisine', 'Cures', 'Expériences', 'Hygiène', 'Lingerie',\n",
       "       'Maroquinerie', 'Outdoor', 'Prêt-à-porter', 'Salon', 'Soins',\n",
       "       'Sportswear'],\n",
       "      dtype='object')"
      ]
     },
     "execution_count": 5,
     "metadata": {},
     "output_type": "execute_result"
    }
   ],
   "source": [
    "X_train.columns"
   ]
  },
  {
   "cell_type": "code",
   "execution_count": 4,
   "metadata": {},
   "outputs": [
    {
     "name": "stderr",
     "output_type": "stream",
     "text": [
      "/Users/priscilleerulin/.pyenv/versions/3.9.16/lib/python3.9/site-packages/sklearn/linear_model/_base.py:141: FutureWarning: 'normalize' was deprecated in version 1.0 and will be removed in 1.2.\n",
      "If you wish to scale the data, use Pipeline with a StandardScaler in a preprocessing stage. To reproduce the previous behavior:\n",
      "\n",
      "from sklearn.pipeline import make_pipeline\n",
      "\n",
      "model = make_pipeline(StandardScaler(with_mean=False), LinearRegression())\n",
      "\n",
      "If you wish to pass a sample_weight parameter, you need to pass it as a fit parameter to each step of the pipeline as follows:\n",
      "\n",
      "kwargs = {s[0] + '__sample_weight': sample_weight for s in model.steps}\n",
      "model.fit(X, y, **kwargs)\n",
      "\n",
      "\n",
      "  warnings.warn(\n",
      "/Users/priscilleerulin/.pyenv/versions/3.9.16/lib/python3.9/site-packages/sklearn/linear_model/_base.py:141: FutureWarning: 'normalize' was deprecated in version 1.0 and will be removed in 1.2.\n",
      "If you wish to scale the data, use Pipeline with a StandardScaler in a preprocessing stage. To reproduce the previous behavior:\n",
      "\n",
      "from sklearn.pipeline import make_pipeline\n",
      "\n",
      "model = make_pipeline(StandardScaler(with_mean=False), LinearRegression())\n",
      "\n",
      "If you wish to pass a sample_weight parameter, you need to pass it as a fit parameter to each step of the pipeline as follows:\n",
      "\n",
      "kwargs = {s[0] + '__sample_weight': sample_weight for s in model.steps}\n",
      "model.fit(X, y, **kwargs)\n",
      "\n",
      "\n",
      "  warnings.warn(\n",
      "/Users/priscilleerulin/.pyenv/versions/3.9.16/lib/python3.9/site-packages/sklearn/linear_model/_base.py:141: FutureWarning: 'normalize' was deprecated in version 1.0 and will be removed in 1.2.\n",
      "If you wish to scale the data, use Pipeline with a StandardScaler in a preprocessing stage. To reproduce the previous behavior:\n",
      "\n",
      "from sklearn.pipeline import make_pipeline\n",
      "\n",
      "model = make_pipeline(StandardScaler(with_mean=False), LinearRegression())\n",
      "\n",
      "If you wish to pass a sample_weight parameter, you need to pass it as a fit parameter to each step of the pipeline as follows:\n",
      "\n",
      "kwargs = {s[0] + '__sample_weight': sample_weight for s in model.steps}\n",
      "model.fit(X, y, **kwargs)\n",
      "\n",
      "\n",
      "  warnings.warn(\n",
      "/Users/priscilleerulin/.pyenv/versions/3.9.16/lib/python3.9/site-packages/sklearn/linear_model/_base.py:148: FutureWarning: 'normalize' was deprecated in version 1.0 and will be removed in 1.2. Please leave the normalize parameter to its default value to silence this warning. The default behavior of this estimator is to not do any normalization. If normalization is needed please use sklearn.preprocessing.StandardScaler instead.\n",
      "  warnings.warn(\n",
      "/Users/priscilleerulin/.pyenv/versions/3.9.16/lib/python3.9/site-packages/sklearn/linear_model/_base.py:148: FutureWarning: 'normalize' was deprecated in version 1.0 and will be removed in 1.2. Please leave the normalize parameter to its default value to silence this warning. The default behavior of this estimator is to not do any normalization. If normalization is needed please use sklearn.preprocessing.StandardScaler instead.\n",
      "  warnings.warn(\n",
      "/Users/priscilleerulin/.pyenv/versions/3.9.16/lib/python3.9/site-packages/sklearn/linear_model/_base.py:148: FutureWarning: 'normalize' was deprecated in version 1.0 and will be removed in 1.2. Please leave the normalize parameter to its default value to silence this warning. The default behavior of this estimator is to not do any normalization. If normalization is needed please use sklearn.preprocessing.StandardScaler instead.\n",
      "  warnings.warn(\n",
      "/Users/priscilleerulin/.pyenv/versions/3.9.16/lib/python3.9/site-packages/sklearn/linear_model/_base.py:141: FutureWarning: 'normalize' was deprecated in version 1.0 and will be removed in 1.2.\n",
      "If you wish to scale the data, use Pipeline with a StandardScaler in a preprocessing stage. To reproduce the previous behavior:\n",
      "\n",
      "from sklearn.pipeline import make_pipeline\n",
      "\n",
      "model = make_pipeline(StandardScaler(with_mean=False), LinearRegression())\n",
      "\n",
      "If you wish to pass a sample_weight parameter, you need to pass it as a fit parameter to each step of the pipeline as follows:\n",
      "\n",
      "kwargs = {s[0] + '__sample_weight': sample_weight for s in model.steps}\n",
      "model.fit(X, y, **kwargs)\n",
      "\n",
      "\n",
      "  warnings.warn(\n"
     ]
    }
   ],
   "source": [
    "from sklearn.linear_model import LinearRegression #Ordinary Least Squares\n",
    "import numpy as np\n",
    "\n",
    "regressor = LinearRegression()\n",
    "# fit_intercept : boolean, optional, default True\n",
    "#    whether to calculate the intercept for this model. \n",
    "\n",
    "#normalize : boolean, optional, default False\n",
    "#    This parameter is ignored when fit_intercept is set to False. \n",
    "#    If True, the regressors X will be normalized before regression.\n",
    "\n",
    "#copy_X : boolean, optional, default True\n",
    "#    If True, X will be copied; else, it may be overwritten.\n",
    "\n",
    "\n",
    "# Create linear regression object\n",
    "# Train the model using the training sets\n",
    "# regressor.fit(X_train, y_train)\n",
    "\n",
    "#DEFINE YOUR GRIDSEARCH \n",
    "\n",
    "from sklearn.model_selection import GridSearchCV\n",
    "parameters = {'normalize':[True,False]} \n",
    "\n",
    "gs = GridSearchCV(regressor, parameters, cv=3) #with no params it reduces to a CV\n",
    "\n",
    "gs = gs.fit(X_train,Y_train)\n"
   ]
  },
  {
   "cell_type": "code",
   "execution_count": 5,
   "metadata": {},
   "outputs": [
    {
     "name": "stdout",
     "output_type": "stream",
     "text": [
      "***GRIDSEARCH RESULTS***\n",
      "Best score: 0.170260 using {'normalize': True}\n",
      "0.170260 (0.001320) with: {'normalize': True}\n",
      "0.170247 (0.001315) with: {'normalize': False}\n"
     ]
    }
   ],
   "source": [
    "#summarize the results of your GRIDSEARCH\n",
    "print('***GRIDSEARCH RESULTS***')\n",
    "print(\"Best score: %f using %s\" % (gs.best_score_, gs.best_params_))\n",
    "means = gs.cv_results_['mean_test_score']\n",
    "stds = gs.cv_results_['std_test_score']\n",
    "params = gs.cv_results_['params']\n",
    "for mean, stdev, param in zip(means, stds, params):\n",
    "    print(\"%f (%f) with: %r\" % (mean, stdev, param))"
   ]
  },
  {
   "cell_type": "code",
   "execution_count": 4,
   "metadata": {},
   "outputs": [
    {
     "name": "stdout",
     "output_type": "stream",
     "text": [
      "Fitting 3 folds for each of 16 candidates, totalling 48 fits\n",
      "[CV 1/3; 1/16] START alpha=10.0, hidden_layer_sizes=8, max_iter=10000, solver=sgd\n",
      "[CV 1/3; 1/16] END alpha=10.0, hidden_layer_sizes=8, max_iter=10000, solver=sgd;, score=0.011 total time=   9.0s\n",
      "[CV 2/3; 1/16] START alpha=10.0, hidden_layer_sizes=8, max_iter=10000, solver=sgd\n",
      "[CV 2/3; 1/16] END alpha=10.0, hidden_layer_sizes=8, max_iter=10000, solver=sgd;, score=0.000 total time=   7.9s\n",
      "[CV 3/3; 1/16] START alpha=10.0, hidden_layer_sizes=8, max_iter=10000, solver=sgd\n",
      "[CV 3/3; 1/16] END alpha=10.0, hidden_layer_sizes=8, max_iter=10000, solver=sgd;, score=0.008 total time=  10.9s\n",
      "[CV 1/3; 2/16] START alpha=10.0, hidden_layer_sizes=(10, 5), max_iter=10000, solver=sgd\n",
      "[CV 1/3; 2/16] END alpha=10.0, hidden_layer_sizes=(10, 5), max_iter=10000, solver=sgd;, score=-0.000 total time=  10.8s\n",
      "[CV 2/3; 2/16] START alpha=10.0, hidden_layer_sizes=(10, 5), max_iter=10000, solver=sgd\n",
      "[CV 2/3; 2/16] END alpha=10.0, hidden_layer_sizes=(10, 5), max_iter=10000, solver=sgd;, score=-0.000 total time=   9.7s\n",
      "[CV 3/3; 2/16] START alpha=10.0, hidden_layer_sizes=(10, 5), max_iter=10000, solver=sgd\n",
      "[CV 3/3; 2/16] END alpha=10.0, hidden_layer_sizes=(10, 5), max_iter=10000, solver=sgd;, score=-0.000 total time=   9.3s\n",
      "[CV 1/3; 3/16] START alpha=10.0, hidden_layer_sizes=(20, 10, 5), max_iter=10000, solver=sgd\n",
      "[CV 1/3; 3/16] END alpha=10.0, hidden_layer_sizes=(20, 10, 5), max_iter=10000, solver=sgd;, score=-0.000 total time=  12.8s\n",
      "[CV 2/3; 3/16] START alpha=10.0, hidden_layer_sizes=(20, 10, 5), max_iter=10000, solver=sgd\n",
      "[CV 2/3; 3/16] END alpha=10.0, hidden_layer_sizes=(20, 10, 5), max_iter=10000, solver=sgd;, score=0.066 total time= 1.7min\n",
      "[CV 3/3; 3/16] START alpha=10.0, hidden_layer_sizes=(20, 10, 5), max_iter=10000, solver=sgd\n",
      "[CV 3/3; 3/16] END alpha=10.0, hidden_layer_sizes=(20, 10, 5), max_iter=10000, solver=sgd;, score=-0.000 total time=  11.5s\n",
      "[CV 1/3; 4/16] START alpha=10.0, hidden_layer_sizes=(10, 5, 3), max_iter=10000, solver=sgd\n",
      "[CV 1/3; 4/16] END alpha=10.0, hidden_layer_sizes=(10, 5, 3), max_iter=10000, solver=sgd;, score=-0.000 total time=  10.6s\n",
      "[CV 2/3; 4/16] START alpha=10.0, hidden_layer_sizes=(10, 5, 3), max_iter=10000, solver=sgd\n",
      "[CV 2/3; 4/16] END alpha=10.0, hidden_layer_sizes=(10, 5, 3), max_iter=10000, solver=sgd;, score=-0.000 total time=   9.3s\n",
      "[CV 3/3; 4/16] START alpha=10.0, hidden_layer_sizes=(10, 5, 3), max_iter=10000, solver=sgd\n",
      "[CV 3/3; 4/16] END alpha=10.0, hidden_layer_sizes=(10, 5, 3), max_iter=10000, solver=sgd;, score=-0.000 total time=   9.8s\n",
      "[CV 1/3; 5/16] START alpha=1.0, hidden_layer_sizes=8, max_iter=10000, solver=sgd\n",
      "[CV 1/3; 5/16] END alpha=1.0, hidden_layer_sizes=8, max_iter=10000, solver=sgd;, score=0.154 total time= 2.5min\n",
      "[CV 2/3; 5/16] START alpha=1.0, hidden_layer_sizes=8, max_iter=10000, solver=sgd\n",
      "[CV 2/3; 5/16] END alpha=1.0, hidden_layer_sizes=8, max_iter=10000, solver=sgd;, score=0.116 total time=  50.3s\n",
      "[CV 3/3; 5/16] START alpha=1.0, hidden_layer_sizes=8, max_iter=10000, solver=sgd\n",
      "[CV 3/3; 5/16] END alpha=1.0, hidden_layer_sizes=8, max_iter=10000, solver=sgd;, score=0.049 total time=  42.6s\n",
      "[CV 1/3; 6/16] START alpha=1.0, hidden_layer_sizes=(10, 5), max_iter=10000, solver=sgd\n",
      "[CV 1/3; 6/16] END alpha=1.0, hidden_layer_sizes=(10, 5), max_iter=10000, solver=sgd;, score=-0.000 total time= 1.1min\n",
      "[CV 2/3; 6/16] START alpha=1.0, hidden_layer_sizes=(10, 5), max_iter=10000, solver=sgd\n",
      "[CV 2/3; 6/16] END alpha=1.0, hidden_layer_sizes=(10, 5), max_iter=10000, solver=sgd;, score=-0.000 total time=  51.5s\n",
      "[CV 3/3; 6/16] START alpha=1.0, hidden_layer_sizes=(10, 5), max_iter=10000, solver=sgd\n",
      "[CV 3/3; 6/16] END alpha=1.0, hidden_layer_sizes=(10, 5), max_iter=10000, solver=sgd;, score=-0.000 total time=  56.4s\n",
      "[CV 1/3; 7/16] START alpha=1.0, hidden_layer_sizes=(20, 10, 5), max_iter=10000, solver=sgd\n",
      "[CV 1/3; 7/16] END alpha=1.0, hidden_layer_sizes=(20, 10, 5), max_iter=10000, solver=sgd;, score=-0.000 total time= 1.2min\n",
      "[CV 2/3; 7/16] START alpha=1.0, hidden_layer_sizes=(20, 10, 5), max_iter=10000, solver=sgd\n",
      "[CV 2/3; 7/16] END alpha=1.0, hidden_layer_sizes=(20, 10, 5), max_iter=10000, solver=sgd;, score=-0.000 total time= 3.3min\n",
      "[CV 3/3; 7/16] START alpha=1.0, hidden_layer_sizes=(20, 10, 5), max_iter=10000, solver=sgd\n",
      "[CV 3/3; 7/16] END alpha=1.0, hidden_layer_sizes=(20, 10, 5), max_iter=10000, solver=sgd;, score=-0.000 total time= 1.2min\n",
      "[CV 1/3; 8/16] START alpha=1.0, hidden_layer_sizes=(10, 5, 3), max_iter=10000, solver=sgd\n",
      "[CV 1/3; 8/16] END alpha=1.0, hidden_layer_sizes=(10, 5, 3), max_iter=10000, solver=sgd;, score=-0.000 total time= 1.2min\n",
      "[CV 2/3; 8/16] START alpha=1.0, hidden_layer_sizes=(10, 5, 3), max_iter=10000, solver=sgd\n",
      "[CV 2/3; 8/16] END alpha=1.0, hidden_layer_sizes=(10, 5, 3), max_iter=10000, solver=sgd;, score=-0.000 total time= 1.0min\n",
      "[CV 3/3; 8/16] START alpha=1.0, hidden_layer_sizes=(10, 5, 3), max_iter=10000, solver=sgd\n",
      "[CV 3/3; 8/16] END alpha=1.0, hidden_layer_sizes=(10, 5, 3), max_iter=10000, solver=sgd;, score=-0.000 total time= 1.6min\n",
      "[CV 1/3; 9/16] START alpha=0.1, hidden_layer_sizes=8, max_iter=10000, solver=sgd\n",
      "[CV 1/3; 9/16] END alpha=0.1, hidden_layer_sizes=8, max_iter=10000, solver=sgd;, score=0.140 total time=10.1min\n",
      "[CV 2/3; 9/16] START alpha=0.1, hidden_layer_sizes=8, max_iter=10000, solver=sgd\n",
      "[CV 2/3; 9/16] END alpha=0.1, hidden_layer_sizes=8, max_iter=10000, solver=sgd;, score=0.172 total time= 7.7min\n",
      "[CV 3/3; 9/16] START alpha=0.1, hidden_layer_sizes=8, max_iter=10000, solver=sgd\n",
      "[CV 3/3; 9/16] END alpha=0.1, hidden_layer_sizes=8, max_iter=10000, solver=sgd;, score=0.161 total time= 7.9min\n",
      "[CV 1/3; 10/16] START alpha=0.1, hidden_layer_sizes=(10, 5), max_iter=10000, solver=sgd\n",
      "[CV 1/3; 10/16] END alpha=0.1, hidden_layer_sizes=(10, 5), max_iter=10000, solver=sgd;, score=-0.000 total time= 8.5min\n",
      "[CV 2/3; 10/16] START alpha=0.1, hidden_layer_sizes=(10, 5), max_iter=10000, solver=sgd\n",
      "[CV 2/3; 10/16] END alpha=0.1, hidden_layer_sizes=(10, 5), max_iter=10000, solver=sgd;, score=-0.000 total time=10.5min\n",
      "[CV 3/3; 10/16] START alpha=0.1, hidden_layer_sizes=(10, 5), max_iter=10000, solver=sgd\n",
      "[CV 3/3; 10/16] END alpha=0.1, hidden_layer_sizes=(10, 5), max_iter=10000, solver=sgd;, score=0.171 total time=56.0min\n",
      "[CV 1/3; 11/16] START alpha=0.1, hidden_layer_sizes=(20, 10, 5), max_iter=10000, solver=sgd\n",
      "[CV 1/3; 11/16] END alpha=0.1, hidden_layer_sizes=(20, 10, 5), max_iter=10000, solver=sgd;, score=-0.000 total time= 6.2min\n",
      "[CV 2/3; 11/16] START alpha=0.1, hidden_layer_sizes=(20, 10, 5), max_iter=10000, solver=sgd\n",
      "[CV 2/3; 11/16] END alpha=0.1, hidden_layer_sizes=(20, 10, 5), max_iter=10000, solver=sgd;, score=-0.000 total time=31.1min\n",
      "[CV 3/3; 11/16] START alpha=0.1, hidden_layer_sizes=(20, 10, 5), max_iter=10000, solver=sgd\n",
      "[CV 3/3; 11/16] END alpha=0.1, hidden_layer_sizes=(20, 10, 5), max_iter=10000, solver=sgd;, score=-0.000 total time= 7.2min\n",
      "[CV 1/3; 12/16] START alpha=0.1, hidden_layer_sizes=(10, 5, 3), max_iter=10000, solver=sgd\n",
      "[CV 1/3; 12/16] END alpha=0.1, hidden_layer_sizes=(10, 5, 3), max_iter=10000, solver=sgd;, score=-0.000 total time=13.2min\n",
      "[CV 2/3; 12/16] START alpha=0.1, hidden_layer_sizes=(10, 5, 3), max_iter=10000, solver=sgd\n",
      "[CV 2/3; 12/16] END alpha=0.1, hidden_layer_sizes=(10, 5, 3), max_iter=10000, solver=sgd;, score=-0.000 total time= 5.7min\n",
      "[CV 3/3; 12/16] START alpha=0.1, hidden_layer_sizes=(10, 5, 3), max_iter=10000, solver=sgd\n",
      "[CV 3/3; 12/16] END alpha=0.1, hidden_layer_sizes=(10, 5, 3), max_iter=10000, solver=sgd;, score=-0.000 total time= 6.5min\n",
      "[CV 1/3; 13/16] START alpha=0.01, hidden_layer_sizes=8, max_iter=10000, solver=sgd\n"
     ]
    },
    {
     "name": "stderr",
     "output_type": "stream",
     "text": [
      "/Users/priscilleerulin/.pyenv/versions/3.9.16/lib/python3.9/site-packages/sklearn/neural_network/_multilayer_perceptron.py:692: ConvergenceWarning: Stochastic Optimizer: Maximum iterations (10000) reached and the optimization hasn't converged yet.\n",
      "  warnings.warn(\n"
     ]
    },
    {
     "name": "stdout",
     "output_type": "stream",
     "text": [
      "[CV 1/3; 13/16] END alpha=0.01, hidden_layer_sizes=8, max_iter=10000, solver=sgd;, score=0.184 total time=30.8min\n",
      "[CV 2/3; 13/16] START alpha=0.01, hidden_layer_sizes=8, max_iter=10000, solver=sgd\n"
     ]
    },
    {
     "name": "stderr",
     "output_type": "stream",
     "text": [
      "/Users/priscilleerulin/.pyenv/versions/3.9.16/lib/python3.9/site-packages/sklearn/neural_network/_multilayer_perceptron.py:692: ConvergenceWarning: Stochastic Optimizer: Maximum iterations (10000) reached and the optimization hasn't converged yet.\n",
      "  warnings.warn(\n"
     ]
    },
    {
     "name": "stdout",
     "output_type": "stream",
     "text": [
      "[CV 2/3; 13/16] END alpha=0.01, hidden_layer_sizes=8, max_iter=10000, solver=sgd;, score=0.199 total time=30.0min\n",
      "[CV 3/3; 13/16] START alpha=0.01, hidden_layer_sizes=8, max_iter=10000, solver=sgd\n"
     ]
    },
    {
     "name": "stderr",
     "output_type": "stream",
     "text": [
      "/Users/priscilleerulin/.pyenv/versions/3.9.16/lib/python3.9/site-packages/sklearn/neural_network/_multilayer_perceptron.py:692: ConvergenceWarning: Stochastic Optimizer: Maximum iterations (10000) reached and the optimization hasn't converged yet.\n",
      "  warnings.warn(\n"
     ]
    },
    {
     "name": "stdout",
     "output_type": "stream",
     "text": [
      "[CV 3/3; 13/16] END alpha=0.01, hidden_layer_sizes=8, max_iter=10000, solver=sgd;, score=0.200 total time=29.5min\n",
      "[CV 1/3; 14/16] START alpha=0.01, hidden_layer_sizes=(10, 5), max_iter=10000, solver=sgd\n",
      "[CV 1/3; 14/16] END alpha=0.01, hidden_layer_sizes=(10, 5), max_iter=10000, solver=sgd;, score=-0.000 total time=  39.9s\n",
      "[CV 2/3; 14/16] START alpha=0.01, hidden_layer_sizes=(10, 5), max_iter=10000, solver=sgd\n",
      "[CV 2/3; 14/16] END alpha=0.01, hidden_layer_sizes=(10, 5), max_iter=10000, solver=sgd;, score=-0.000 total time=28.3min\n",
      "[CV 3/3; 14/16] START alpha=0.01, hidden_layer_sizes=(10, 5), max_iter=10000, solver=sgd\n",
      "[CV 3/3; 14/16] END alpha=0.01, hidden_layer_sizes=(10, 5), max_iter=10000, solver=sgd;, score=-0.000 total time=12.9min\n",
      "[CV 1/3; 15/16] START alpha=0.01, hidden_layer_sizes=(20, 10, 5), max_iter=10000, solver=sgd\n",
      "[CV 1/3; 15/16] END alpha=0.01, hidden_layer_sizes=(20, 10, 5), max_iter=10000, solver=sgd;, score=-0.000 total time=33.5min\n",
      "[CV 2/3; 15/16] START alpha=0.01, hidden_layer_sizes=(20, 10, 5), max_iter=10000, solver=sgd\n",
      "[CV 2/3; 15/16] END alpha=0.01, hidden_layer_sizes=(20, 10, 5), max_iter=10000, solver=sgd;, score=-0.000 total time=   4.6s\n",
      "[CV 3/3; 15/16] START alpha=0.01, hidden_layer_sizes=(20, 10, 5), max_iter=10000, solver=sgd\n",
      "[CV 3/3; 15/16] END alpha=0.01, hidden_layer_sizes=(20, 10, 5), max_iter=10000, solver=sgd;, score=-0.000 total time=55.1min\n",
      "[CV 1/3; 16/16] START alpha=0.01, hidden_layer_sizes=(10, 5, 3), max_iter=10000, solver=sgd\n",
      "[CV 1/3; 16/16] END alpha=0.01, hidden_layer_sizes=(10, 5, 3), max_iter=10000, solver=sgd;, score=-0.000 total time=44.0min\n",
      "[CV 2/3; 16/16] START alpha=0.01, hidden_layer_sizes=(10, 5, 3), max_iter=10000, solver=sgd\n",
      "[CV 2/3; 16/16] END alpha=0.01, hidden_layer_sizes=(10, 5, 3), max_iter=10000, solver=sgd;, score=-0.000 total time=223.4min\n",
      "[CV 3/3; 16/16] START alpha=0.01, hidden_layer_sizes=(10, 5, 3), max_iter=10000, solver=sgd\n",
      "[CV 3/3; 16/16] END alpha=0.01, hidden_layer_sizes=(10, 5, 3), max_iter=10000, solver=sgd;, score=-0.000 total time=320.8min\n"
     ]
    },
    {
     "name": "stderr",
     "output_type": "stream",
     "text": [
      "/Users/priscilleerulin/.pyenv/versions/3.9.16/lib/python3.9/site-packages/sklearn/neural_network/_multilayer_perceptron.py:692: ConvergenceWarning: Stochastic Optimizer: Maximum iterations (10000) reached and the optimization hasn't converged yet.\n",
      "  warnings.warn(\n"
     ]
    }
   ],
   "source": [
    "#DEFINE YOUR REGRESSOR and THE PARAMETERS GRID\n",
    "from sklearn.neural_network import MLPRegressor\n",
    "import numpy as np\n",
    "\n",
    "regressor = MLPRegressor(random_state=0)\n",
    "parameters = {'hidden_layer_sizes': [(8),(10, 5), (20,10,5), (10,5,3)],\n",
    "              'solver' : ['sgd'],\n",
    "              #'batch_size': [20],\n",
    "              #'learning_rate' : ['constant'],\n",
    "              'alpha':10.0 ** -np.arange(-1, 3),\n",
    "              'max_iter':[10000]}\n",
    "\n",
    "#DEFINE YOUR GRIDSEARCH \n",
    "from sklearn.model_selection import GridSearchCV\n",
    "gs = GridSearchCV(regressor, parameters, cv=3, verbose = 10) #with no params it reduces to a CV\n",
    "\n",
    "gs = gs.fit(X_train,Y_train)"
   ]
  },
  {
   "cell_type": "code",
   "execution_count": 5,
   "metadata": {},
   "outputs": [
    {
     "name": "stdout",
     "output_type": "stream",
     "text": [
      "***GRIDSEARCH RESULTS***\n",
      "Best score: 0.194117 using {'alpha': 0.01, 'hidden_layer_sizes': 8, 'max_iter': 10000, 'solver': 'sgd'}\n",
      "0.006362 (0.004554) with: {'alpha': 10.0, 'hidden_layer_sizes': 8, 'max_iter': 10000, 'solver': 'sgd'}\n",
      "-0.000008 (0.000007) with: {'alpha': 10.0, 'hidden_layer_sizes': (10, 5), 'max_iter': 10000, 'solver': 'sgd'}\n",
      "0.022140 (0.031322) with: {'alpha': 10.0, 'hidden_layer_sizes': (20, 10, 5), 'max_iter': 10000, 'solver': 'sgd'}\n",
      "-0.000006 (0.000006) with: {'alpha': 10.0, 'hidden_layer_sizes': (10, 5, 3), 'max_iter': 10000, 'solver': 'sgd'}\n",
      "0.106308 (0.043567) with: {'alpha': 1.0, 'hidden_layer_sizes': 8, 'max_iter': 10000, 'solver': 'sgd'}\n",
      "-0.000017 (0.000022) with: {'alpha': 1.0, 'hidden_layer_sizes': (10, 5), 'max_iter': 10000, 'solver': 'sgd'}\n",
      "-0.000020 (0.000018) with: {'alpha': 1.0, 'hidden_layer_sizes': (20, 10, 5), 'max_iter': 10000, 'solver': 'sgd'}\n",
      "-0.000015 (0.000017) with: {'alpha': 1.0, 'hidden_layer_sizes': (10, 5, 3), 'max_iter': 10000, 'solver': 'sgd'}\n",
      "0.157826 (0.013296) with: {'alpha': 0.1, 'hidden_layer_sizes': 8, 'max_iter': 10000, 'solver': 'sgd'}\n",
      "0.057030 (0.080653) with: {'alpha': 0.1, 'hidden_layer_sizes': (10, 5), 'max_iter': 10000, 'solver': 'sgd'}\n",
      "-0.000005 (0.000003) with: {'alpha': 0.1, 'hidden_layer_sizes': (20, 10, 5), 'max_iter': 10000, 'solver': 'sgd'}\n",
      "-0.000045 (0.000038) with: {'alpha': 0.1, 'hidden_layer_sizes': (10, 5, 3), 'max_iter': 10000, 'solver': 'sgd'}\n",
      "0.194117 (0.007165) with: {'alpha': 0.01, 'hidden_layer_sizes': 8, 'max_iter': 10000, 'solver': 'sgd'}\n",
      "-0.000026 (0.000031) with: {'alpha': 0.01, 'hidden_layer_sizes': (10, 5), 'max_iter': 10000, 'solver': 'sgd'}\n",
      "-0.000179 (0.000208) with: {'alpha': 0.01, 'hidden_layer_sizes': (20, 10, 5), 'max_iter': 10000, 'solver': 'sgd'}\n",
      "-0.000011 (0.000013) with: {'alpha': 0.01, 'hidden_layer_sizes': (10, 5, 3), 'max_iter': 10000, 'solver': 'sgd'}\n"
     ]
    },
    {
     "ename": "NameError",
     "evalue": "name 'X_test' is not defined",
     "output_type": "error",
     "traceback": [
      "\u001b[0;31m---------------------------------------------------------------------------\u001b[0m",
      "\u001b[0;31mNameError\u001b[0m                                 Traceback (most recent call last)",
      "\u001b[0;32m/var/folders/r8/txzynl1j0xj6xzvf7622s2vw0000gn/T/ipykernel_35550/1725166816.py\u001b[0m in \u001b[0;36m<cell line: 12>\u001b[0;34m()\u001b[0m\n\u001b[1;32m     10\u001b[0m \u001b[0;31m#Returns the coefficient of determination R^2 of the prediction.\u001b[0m\u001b[0;34m\u001b[0m\u001b[0;34m\u001b[0m\u001b[0m\n\u001b[1;32m     11\u001b[0m \u001b[0;31m#Explained variance score: 1 is perfect prediction\u001b[0m\u001b[0;34m\u001b[0m\u001b[0;34m\u001b[0m\u001b[0m\n\u001b[0;32m---> 12\u001b[0;31m \u001b[0mgs\u001b[0m\u001b[0;34m.\u001b[0m\u001b[0mscore\u001b[0m\u001b[0;34m(\u001b[0m\u001b[0mX_test\u001b[0m\u001b[0;34m,\u001b[0m \u001b[0my_test\u001b[0m\u001b[0;34m)\u001b[0m\u001b[0;34m\u001b[0m\u001b[0;34m\u001b[0m\u001b[0m\n\u001b[0m",
      "\u001b[0;31mNameError\u001b[0m: name 'X_test' is not defined"
     ]
    }
   ],
   "source": [
    "#summarize the results of your GRIDSEARCH\n",
    "print('***GRIDSEARCH RESULTS***')\n",
    "print(\"Best score: %f using %s\" % (gs.best_score_, gs.best_params_))\n",
    "means = gs.cv_results_['mean_test_score']\n",
    "stds = gs.cv_results_['std_test_score']\n",
    "params = gs.cv_results_['params']\n",
    "for mean, stdev, param in zip(means, stds, params):\n",
    "    print(\"%f (%f) with: %r\" % (mean, stdev, param))\n",
    "\n",
    "#Returns the coefficient of determination R^2 of the prediction.\n",
    "#Explained variance score: 1 is perfect prediction\n",
    "gs.score(X_test, y_test)"
   ]
  },
  {
   "cell_type": "code",
   "execution_count": 11,
   "metadata": {},
   "outputs": [
    {
     "data": {
      "text/plain": [
       "MLPRegressor(alpha=0.01, hidden_layer_sizes=8, max_iter=10000, solver='sgd')"
      ]
     },
     "execution_count": 11,
     "metadata": {},
     "output_type": "execute_result"
    }
   ],
   "source": [
    "MLPR = MLPRegressor(alpha= 0.01, hidden_layer_sizes= 8, max_iter= 10000, solver= 'sgd')\n",
    "MLPR.fit (X_train,Y_train)"
   ]
  },
  {
   "cell_type": "code",
   "execution_count": 12,
   "metadata": {},
   "outputs": [],
   "source": [
    "import pickle\n",
    "pickle.dump(MLPR, open('mlpr_model.pkl', 'wb'))"
   ]
  },
  {
   "cell_type": "code",
   "execution_count": null,
   "metadata": {},
   "outputs": [],
   "source": [
    "X_train.shape"
   ]
  },
  {
   "cell_type": "code",
   "execution_count": 8,
   "metadata": {},
   "outputs": [
    {
     "ename": "AttributeError",
     "evalue": "'dict' object has no attribute 'flatten'",
     "output_type": "error",
     "traceback": [
      "\u001b[0;31m---------------------------------------------------------------------------\u001b[0m",
      "\u001b[0;31mAttributeError\u001b[0m                            Traceback (most recent call last)",
      "\u001b[0;32m/var/folders/r8/txzynl1j0xj6xzvf7622s2vw0000gn/T/ipykernel_35509/2938603988.py\u001b[0m in \u001b[0;36m<cell line: 1>\u001b[0;34m()\u001b[0m\n\u001b[0;32m----> 1\u001b[0;31m \u001b[0mlen\u001b[0m\u001b[0;34m(\u001b[0m\u001b[0mparameters\u001b[0m\u001b[0;34m.\u001b[0m\u001b[0mflatten\u001b[0m\u001b[0;34m(\u001b[0m\u001b[0;34m)\u001b[0m\u001b[0;34m)\u001b[0m\u001b[0;34m\u001b[0m\u001b[0;34m\u001b[0m\u001b[0m\n\u001b[0m",
      "\u001b[0;31mAttributeError\u001b[0m: 'dict' object has no attribute 'flatten'"
     ]
    }
   ],
   "source": []
  },
  {
   "cell_type": "code",
   "execution_count": null,
   "metadata": {},
   "outputs": [],
   "source": []
  }
 ],
 "metadata": {
  "kernelspec": {
   "display_name": "Python 3",
   "language": "python",
   "name": "python3"
  },
  "language_info": {
   "codemirror_mode": {
    "name": "ipython",
    "version": 3
   },
   "file_extension": ".py",
   "mimetype": "text/x-python",
   "name": "python",
   "nbconvert_exporter": "python",
   "pygments_lexer": "ipython3",
   "version": "3.9.16"
  },
  "orig_nbformat": 4
 },
 "nbformat": 4,
 "nbformat_minor": 2
}
